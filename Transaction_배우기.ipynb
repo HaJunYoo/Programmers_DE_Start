{
  "nbformat": 4,
  "nbformat_minor": 0,
  "metadata": {
    "colab": {
      "provenance": [],
      "include_colab_link": true
    },
    "kernelspec": {
      "name": "python3",
      "display_name": "Python 3"
    }
  },
  "cells": [
    {
      "cell_type": "markdown",
      "metadata": {
        "id": "view-in-github",
        "colab_type": "text"
      },
      "source": [
        "<a href=\"https://colab.research.google.com/github/HaJunYoo/Programmers_DE_Start/blob/main/Transaction_%EB%B0%B0%EC%9A%B0%EA%B8%B0.ipynb\" target=\"_parent\"><img src=\"https://colab.research.google.com/assets/colab-badge.svg\" alt=\"Open In Colab\"/></a>"
      ]
    },
    {
      "cell_type": "markdown",
      "metadata": {
        "id": "bbEJ5gTWcuFy"
      },
      "source": [
        "## 트랜잭션이란? 동시에 Atomic하게 실행되어야 하는 SQL들을 묶어서 하나의 작업처럼 처리하는 방법"
      ]
    },
    {
      "cell_type": "code",
      "source": [
        "# sqlachemy version reinstallation\n",
        "!pip uninstall sqlalchemy -y\n",
        "!pip install sqlalchemy==1.4.41"
      ],
      "metadata": {
        "colab": {
          "base_uri": "https://localhost:8080/"
        },
        "id": "e7MgjJ_TKnEV",
        "outputId": "5c11df7f-e122-4d78-c910-e3d3256a5148"
      },
      "execution_count": 8,
      "outputs": [
        {
          "output_type": "stream",
          "name": "stdout",
          "text": [
            "Found existing installation: SQLAlchemy 2.0.0\n",
            "Uninstalling SQLAlchemy-2.0.0:\n",
            "  Successfully uninstalled SQLAlchemy-2.0.0\n",
            "Looking in indexes: https://pypi.org/simple, https://us-python.pkg.dev/colab-wheels/public/simple/\n",
            "Collecting sqlalchemy==1.4.41\n",
            "  Downloading SQLAlchemy-1.4.41-cp38-cp38-manylinux_2_5_x86_64.manylinux1_x86_64.manylinux_2_17_x86_64.manylinux2014_x86_64.whl (1.6 MB)\n",
            "\u001b[2K     \u001b[90m━━━━━━━━━━━━━━━━━━━━━━━━━━━━━━━━━━━━━━━━\u001b[0m \u001b[32m1.6/1.6 MB\u001b[0m \u001b[31m43.3 MB/s\u001b[0m eta \u001b[36m0:00:00\u001b[0m\n",
            "\u001b[?25hRequirement already satisfied: greenlet!=0.4.17 in /usr/local/lib/python3.8/dist-packages (from sqlalchemy==1.4.41) (2.0.2)\n",
            "Installing collected packages: sqlalchemy\n",
            "Successfully installed sqlalchemy-1.4.41\n"
          ]
        }
      ]
    },
    {
      "cell_type": "code",
      "source": [
        "from google.colab import drive\n",
        "drive.mount('/content/drive')"
      ],
      "metadata": {
        "colab": {
          "base_uri": "https://localhost:8080/"
        },
        "id": "R7VM6qyHvzwD",
        "outputId": "25877486-2d69-4178-b627-e6ca9f5440b6"
      },
      "execution_count": 1,
      "outputs": [
        {
          "output_type": "stream",
          "name": "stdout",
          "text": [
            "Drive already mounted at /content/drive; to attempt to forcibly remount, call drive.mount(\"/content/drive\", force_remount=True).\n"
          ]
        }
      ]
    },
    {
      "cell_type": "code",
      "source": [
        "!pip install python-dotenv"
      ],
      "metadata": {
        "colab": {
          "base_uri": "https://localhost:8080/"
        },
        "id": "d2z_sIGSvqUf",
        "outputId": "0f286bc9-230e-4bd8-e31f-a754531fbcb9"
      },
      "execution_count": 2,
      "outputs": [
        {
          "output_type": "stream",
          "name": "stdout",
          "text": [
            "Looking in indexes: https://pypi.org/simple, https://us-python.pkg.dev/colab-wheels/public/simple/\n",
            "Requirement already satisfied: python-dotenv in /usr/local/lib/python3.8/dist-packages (0.21.1)\n"
          ]
        }
      ]
    },
    {
      "cell_type": "code",
      "source": [
        "from dotenv import load_dotenv\n",
        "import os \n",
        "\n",
        "path = '/content/drive/MyDrive/Programmers'\n",
        "# load .env\n",
        "load_dotenv(os.path.join(path, '.env'))\n",
        "\n",
        "User = os.environ.get('user')\n",
        "Password = os.environ.get('password')"
      ],
      "metadata": {
        "id": "0-1NJruW08bg"
      },
      "execution_count": 3,
      "outputs": []
    },
    {
      "cell_type": "code",
      "metadata": {
        "id": "z565vC4I9V0d"
      },
      "source": [
        "import psycopg2\n",
        "\n",
        "# Redshift connection 함수\n",
        "# - user와 password를 본인 것으로 수정!\n",
        "\n",
        "# autocommit이라는 변수가 생김 => True or False를 통해 조절\n",
        "def get_Redshift_connection(autocommit):\n",
        "    host = \"learnde.cduaw970ssvt.ap-northeast-2.redshift.amazonaws.com\"\n",
        "    user = User\n",
        "    password = Password\n",
        "    port = 5439\n",
        "    dbname = \"dev\"\n",
        "    conn = psycopg2.connect(f\"dbname={dbname} user={user} host={host} password={password} port={port}\")\n",
        "    conn.set_session(autocommit=autocommit)\n",
        "    return conn"
      ],
      "execution_count": 4,
      "outputs": []
    },
    {
      "cell_type": "markdown",
      "metadata": {
        "id": "XVtoIXUGWcWR"
      },
      "source": [
        "# INSERT SQL을 autocommit=False로 실행"
      ]
    },
    {
      "cell_type": "code",
      "metadata": {
        "id": "gjDwY95epWDi"
      },
      "source": [
        "conn = get_Redshift_connection(False) \n",
        "# auto_commit = False : 쓰기를 하면 commit을 명시해야 반영이 된다\n",
        "cur = conn.cursor()"
      ],
      "execution_count": 5,
      "outputs": []
    },
    {
      "cell_type": "code",
      "metadata": {
        "id": "yKat8sQEaG0c"
      },
      "source": [
        "cur.execute(\"SELECT * FROM hajuny129.name_gender LIMIT 10;\")\n",
        "res = cur.fetchall()\n",
        "for r in res:\n",
        "  print(r)"
      ],
      "execution_count": 6,
      "outputs": []
    },
    {
      "cell_type": "code",
      "metadata": {
        "id": "qNXE-TtuSozb"
      },
      "source": [
        "cur.execute(\"DELETE FROM hajuny129.name_gender;\")"
      ],
      "execution_count": 7,
      "outputs": []
    },
    {
      "cell_type": "code",
      "metadata": {
        "id": "Uhfuq2JQPyz9"
      },
      "source": [
        "cur.execute(\"INSERT INTO hajuny129.name_gender VALUES ('Keeyong', 'Male');\")"
      ],
      "execution_count": 8,
      "outputs": []
    },
    {
      "cell_type": "code",
      "metadata": {
        "id": "HrsIMgvMP9_n",
        "colab": {
          "base_uri": "https://localhost:8080/"
        },
        "outputId": "944d6f1a-3ed6-468f-d3a5-26ae0c751508"
      },
      "source": [
        "cur.execute(\"SELECT * FROM hajuny129.name_gender LIMIT 10;\")\n",
        "res = cur.fetchall()\n",
        "for r in res:\n",
        "  print(r)"
      ],
      "execution_count": 9,
      "outputs": [
        {
          "output_type": "stream",
          "name": "stdout",
          "text": [
            "('Keeyong', 'Male')\n"
          ]
        }
      ]
    },
    {
      "cell_type": "code",
      "metadata": {
        "id": "DMDGfg5qPX7s"
      },
      "source": [
        "cur.execute(\"COMMIT;\")   \n",
        "# conn.commit()와 동일. cur.execute(\"ROLLBACK;\")와 conn.rollback()도 동일"
      ],
      "execution_count": 10,
      "outputs": []
    },
    {
      "cell_type": "code",
      "metadata": {
        "id": "NFsWbJ-G-hq6"
      },
      "source": [
        "conn.close()"
      ],
      "execution_count": 11,
      "outputs": []
    },
    {
      "cell_type": "markdown",
      "metadata": {
        "id": "NBto_jgD-Xos"
      },
      "source": [
        "# INSERT SQL을 autocommit=False로 실행하고 try/except로 컨트롤하기"
      ]
    },
    {
      "cell_type": "code",
      "metadata": {
        "id": "d9g3Tltg-e2a"
      },
      "source": [
        "conn = get_Redshift_connection(False)\n",
        "cur = conn.cursor()"
      ],
      "execution_count": 12,
      "outputs": []
    },
    {
      "cell_type": "code",
      "metadata": {
        "id": "gvw0-gOn-nt_"
      },
      "source": [
        "# auto_commit = False일때는 BEGIN이 항상 써있는 상태와 같다 => 정합성 이슈 해결\n",
        "try:\n",
        "  cur.execute(\"DELETE FROM hajuny129.name_gender;\") \n",
        "  cur.execute(\"INSERT INTO hajuny129.name_gender VALUES ('Claire', 'Female');\")\n",
        "  conn.commit()  # cur.execute(\"COMMIT;\")와 동일\n",
        "except (Exception, psycopg2.DatabaseError) as error:\n",
        "  print(error)\n",
        "  conn.rollback()  # cur.execute(\"ROLLBACK;\")와 동일\n",
        "\n",
        "# finally :\n",
        "#   conn.close()"
      ],
      "execution_count": 16,
      "outputs": []
    },
    {
      "cell_type": "markdown",
      "metadata": {
        "id": "K036sUi4Zo97"
      },
      "source": [
        "# INSERT SQL을 autocommit=True로 실행하고 try/except로 컨트롤하기"
      ]
    },
    {
      "cell_type": "code",
      "metadata": {
        "id": "fb9K_eY7Zo98"
      },
      "source": [
        "conn = get_Redshift_connection(True)\n",
        "# True 일 때는 바로 physical table에 작성 및 반영을 해버린다.\n",
        "cur = conn.cursor()"
      ],
      "execution_count": 30,
      "outputs": []
    },
    {
      "cell_type": "code",
      "source": [
        "cur.execute(\"DELETE FROM hajuny129.name_gender;\") "
      ],
      "metadata": {
        "id": "pGtmVlJRWt_S"
      },
      "execution_count": 31,
      "outputs": []
    },
    {
      "cell_type": "code",
      "metadata": {
        "id": "77xwFq1sZo99"
      },
      "source": [
        "try:\n",
        "  cur.execute(\"BEGIN;\")\n",
        "  cur.execute(\"DELETE FROM hajuny129.name_gender;\") \n",
        "  cur.execute(\"INSERT INTO hajuny129.name_gender VALUES ('Claire', 'Female');\")\n",
        "  cur.execute(\"END;\")\n",
        "except (Exception, psycopg2.DatabaseError) as error:\n",
        "  print(error)\n",
        "  cur.execute(\"ROLLBACK;\")\n",
        "# finally :\n",
        "#   conn.close()"
      ],
      "execution_count": 32,
      "outputs": []
    },
    {
      "cell_type": "markdown",
      "metadata": {
        "id": "HUuosOlqCh5s"
      },
      "source": [
        "# INSERT SQL을 autocommit=True로 실행하고 SQL로 컨트롤하기"
      ]
    },
    {
      "cell_type": "code",
      "metadata": {
        "id": "3_iYs4L8CbxG"
      },
      "source": [
        "conn = get_Redshift_connection(True)\n",
        "cur = conn.cursor()"
      ],
      "execution_count": 33,
      "outputs": []
    },
    {
      "cell_type": "code",
      "metadata": {
        "id": "6KWtJNoncO0D",
        "colab": {
          "base_uri": "https://localhost:8080/"
        },
        "outputId": "42e0413f-8272-4185-dd28-01d9eeddcf92"
      },
      "source": [
        "cur.execute(\"SELECT * FROM hajuny129.name_gender;\")\n",
        "res = cur.fetchall()\n",
        "for r in res:\n",
        "  print(r)"
      ],
      "execution_count": 34,
      "outputs": [
        {
          "output_type": "stream",
          "name": "stdout",
          "text": [
            "('Claire', 'Female')\n"
          ]
        }
      ]
    },
    {
      "cell_type": "code",
      "metadata": {
        "id": "ofkQouLMCl2s"
      },
      "source": [
        "cur.execute(\"BEGIN;\")\n",
        "cur.execute(\"DELETE FROM hajuny129.name_gender;\")\n",
        "cur.execute(\"INSERT INTO hajuny129.name_gender VALUES ('Benjamin', 'Male');\")"
      ],
      "execution_count": 35,
      "outputs": []
    },
    {
      "cell_type": "code",
      "source": [
        "cur.execute(\"SELECT * FROM hajuny129.name_gender;\")\n",
        "res = cur.fetchall()\n",
        "for r in res:\n",
        "  print(r)"
      ],
      "metadata": {
        "colab": {
          "base_uri": "https://localhost:8080/"
        },
        "id": "llCJSqRZPtgv",
        "outputId": "3d711821-79aa-4032-e372-28c8febfcc11"
      },
      "execution_count": 36,
      "outputs": [
        {
          "output_type": "stream",
          "name": "stdout",
          "text": [
            "('Benjamin', 'Male')\n"
          ]
        }
      ]
    },
    {
      "cell_type": "code",
      "source": [
        "cur.execute(\"END;\")"
      ],
      "metadata": {
        "id": "1bfRVAsqXSVz"
      },
      "execution_count": 37,
      "outputs": []
    },
    {
      "cell_type": "markdown",
      "metadata": {
        "id": "5nfCUmjoDAhl"
      },
      "source": [
        "# 잘못된 SQL을 중간에 실행해보기"
      ]
    },
    {
      "cell_type": "code",
      "metadata": {
        "id": "OE3KCwUnC4-g",
        "colab": {
          "base_uri": "https://localhost:8080/",
          "height": 224
        },
        "outputId": "ff978855-bb1b-4adf-d8c0-11f232e9f162"
      },
      "source": [
        "cur.execute(\"BEGIN;\")\n",
        "cur.execute(\"DELETE FROM hajuny129.name_gender;\")\n",
        "cur.execute(\"INSERT INTO hajuny129.name_gender3 VALUES ('Andrew', 'Male');\")\n",
        "cur.execute(\"END;\")"
      ],
      "execution_count": 38,
      "outputs": [
        {
          "output_type": "error",
          "ename": "UndefinedTable",
          "evalue": "ignored",
          "traceback": [
            "\u001b[0;31m---------------------------------------------------------------------------\u001b[0m",
            "\u001b[0;31mUndefinedTable\u001b[0m                            Traceback (most recent call last)",
            "\u001b[0;32m<ipython-input-38-d3f67205314e>\u001b[0m in \u001b[0;36m<module>\u001b[0;34m\u001b[0m\n\u001b[1;32m      1\u001b[0m \u001b[0mcur\u001b[0m\u001b[0;34m.\u001b[0m\u001b[0mexecute\u001b[0m\u001b[0;34m(\u001b[0m\u001b[0;34m\"BEGIN;\"\u001b[0m\u001b[0;34m)\u001b[0m\u001b[0;34m\u001b[0m\u001b[0;34m\u001b[0m\u001b[0m\n\u001b[1;32m      2\u001b[0m \u001b[0mcur\u001b[0m\u001b[0;34m.\u001b[0m\u001b[0mexecute\u001b[0m\u001b[0;34m(\u001b[0m\u001b[0;34m\"DELETE FROM hajuny129.name_gender;\"\u001b[0m\u001b[0;34m)\u001b[0m\u001b[0;34m\u001b[0m\u001b[0;34m\u001b[0m\u001b[0m\n\u001b[0;32m----> 3\u001b[0;31m \u001b[0mcur\u001b[0m\u001b[0;34m.\u001b[0m\u001b[0mexecute\u001b[0m\u001b[0;34m(\u001b[0m\u001b[0;34m\"INSERT INTO hajuny129.name_gender3 VALUES ('Andrew', 'Male');\"\u001b[0m\u001b[0;34m)\u001b[0m\u001b[0;34m\u001b[0m\u001b[0;34m\u001b[0m\u001b[0m\n\u001b[0m\u001b[1;32m      4\u001b[0m \u001b[0mcur\u001b[0m\u001b[0;34m.\u001b[0m\u001b[0mexecute\u001b[0m\u001b[0;34m(\u001b[0m\u001b[0;34m\"END;\"\u001b[0m\u001b[0;34m)\u001b[0m\u001b[0;34m\u001b[0m\u001b[0;34m\u001b[0m\u001b[0m\n",
            "\u001b[0;31mUndefinedTable\u001b[0m: relation \"hajuny129.name_gender3\" does not exist\n"
          ]
        }
      ]
    },
    {
      "cell_type": "code",
      "source": [],
      "metadata": {
        "id": "Z_5w3y1pPy4X"
      },
      "execution_count": null,
      "outputs": []
    }
  ]
}